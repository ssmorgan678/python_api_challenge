{
 "cells": [
  {
   "cell_type": "markdown",
   "metadata": {},
   "source": [
    "# WeatherPy\n",
    "\n",
    "---\n",
    "\n",
    "## Starter Code to Generate Random Geographic Coordinates and a List of Cities"
   ]
  },
  {
   "cell_type": "code",
   "execution_count": 1,
   "metadata": {
    "scrolled": true
   },
   "outputs": [],
   "source": [
    "# Dependencies and Setup\n",
    "import matplotlib.pyplot as plt\n",
    "import pandas as pd\n",
    "import numpy as np\n",
    "import requests\n",
    "import time\n",
    "from scipy.stats import linregress\n",
    "\n",
    "\n",
    "# Impor the OpenWeatherMap API key\n",
    "from api_keys import weather_api_key\n",
    "\n",
    "# Import citipy to determine the cities based on latitude and longitude\n",
    "from citipy import citipy"
   ]
  },
  {
   "cell_type": "markdown",
   "metadata": {},
   "source": [
    "### Generate the Cities List by Using the `citipy` Library"
   ]
  },
  {
   "cell_type": "code",
   "execution_count": 2,
   "metadata": {},
   "outputs": [
    {
     "name": "stdout",
     "output_type": "stream",
     "text": [
      "Number of cities in the list: 638\n"
     ]
    }
   ],
   "source": [
    "# Empty list for holding the latitude and longitude combinations\n",
    "lat_lngs = []\n",
    "\n",
    "# Empty list for holding the cities names\n",
    "cities = []\n",
    "\n",
    "# Range of latitudes and longitudes\n",
    "lat_range = (-90, 90)\n",
    "lng_range = (-180, 180)\n",
    "\n",
    "# Create a set of random lat and lng combinations\n",
    "lats = np.random.uniform(lat_range[0], lat_range[1], size=1500)\n",
    "lngs = np.random.uniform(lng_range[0], lng_range[1], size=1500)\n",
    "lat_lngs = zip(lats, lngs)\n",
    "\n",
    "# Identify nearest city for each lat, lng combination\n",
    "for lat_lng in lat_lngs:\n",
    "    city = citipy.nearest_city(lat_lng[0], lat_lng[1]).city_name\n",
    "    \n",
    "    # If the city is unique, then add it to a our cities list\n",
    "    if city not in cities:\n",
    "        cities.append(city)\n",
    "\n",
    "# Print the city count to confirm sufficient count\n",
    "print(f\"Number of cities in the list: {len(cities)}\")"
   ]
  },
  {
   "cell_type": "markdown",
   "metadata": {},
   "source": [
    "---"
   ]
  },
  {
   "cell_type": "markdown",
   "metadata": {},
   "source": [
    "## Requirement 1: Create Plots to Showcase the Relationship Between Weather Variables and Latitude\n",
    "\n",
    "### Use the OpenWeatherMap API to retrieve weather data from the cities list generated in the started code"
   ]
  },
  {
   "cell_type": "code",
   "execution_count": 3,
   "metadata": {
    "scrolled": true
   },
   "outputs": [
    {
     "name": "stdout",
     "output_type": "stream",
     "text": [
      "Beginning Data Retrieval     \n",
      "-----------------------------\n",
      "Processing Record 1 of Set 1 | albany\n",
      "{'coord': {'lon': -73.9662, 'lat': 42.6001}, 'weather': [{'id': 804, 'main': 'Clouds', 'description': 'overcast clouds', 'icon': '04d'}], 'base': 'stations', 'main': {'temp': 4.61, 'feels_like': 4.61, 'temp_min': 2.91, 'temp_max': 6.24, 'pressure': 1011, 'humidity': 69}, 'visibility': 10000, 'wind': {'speed': 0.89, 'deg': 297, 'gust': 3.58}, 'clouds': {'all': 95}, 'dt': 1676064811, 'sys': {'type': 2, 'id': 19530, 'country': 'US', 'sunrise': 1676030396, 'sunset': 1676067624}, 'timezone': -18000, 'id': 5106841, 'name': 'Albany', 'cod': 200}\n",
      "string indices must be integers\n",
      "City not found. Skipping...\n",
      "Processing Record 2 of Set 1 | ponta do sol\n",
      "{'coord': {'lon': -17.1, 'lat': 32.6667}, 'weather': [{'id': 501, 'main': 'Rain', 'description': 'moderate rain', 'icon': '10n'}], 'base': 'stations', 'main': {'temp': 14.46, 'feels_like': 14.1, 'temp_min': 13.96, 'temp_max': 15.56, 'pressure': 1015, 'humidity': 82, 'sea_level': 1015, 'grnd_level': 1015}, 'visibility': 2076, 'wind': {'speed': 4.86, 'deg': 139, 'gust': 6.88}, 'rain': {'1h': 3.18}, 'clouds': {'all': 100}, 'dt': 1676064817, 'sys': {'type': 2, 'id': 2008291, 'country': 'PT', 'sunrise': 1676015794, 'sunset': 1676054929}, 'timezone': 0, 'id': 2264557, 'name': 'Ponta do Sol', 'cod': 200}\n",
      "string indices must be integers\n",
      "City not found. Skipping...\n",
      "Processing Record 3 of Set 1 | belmonte\n",
      "{'coord': {'lon': -38.8828, 'lat': -15.8631}, 'weather': [{'id': 800, 'main': 'Clear', 'description': 'clear sky', 'icon': '01n'}], 'base': 'stations', 'main': {'temp': 25.97, 'feels_like': 25.97, 'temp_min': 25.97, 'temp_max': 25.97, 'pressure': 1013, 'humidity': 84, 'sea_level': 1013, 'grnd_level': 1012}, 'visibility': 10000, 'wind': {'speed': 3.93, 'deg': 86, 'gust': 6.48}, 'clouds': {'all': 1}, 'dt': 1676064818, 'sys': {'country': 'BR', 'sunrise': 1676017770, 'sunset': 1676063409}, 'timezone': -10800, 'id': 3470137, 'name': 'Belmonte', 'cod': 200}\n",
      "string indices must be integers\n",
      "City not found. Skipping...\n",
      "Processing Record 4 of Set 1 | herat\n",
      "{'coord': {'lon': 62, 'lat': 34.5}, 'weather': [{'id': 800, 'main': 'Clear', 'description': 'clear sky', 'icon': '01n'}], 'base': 'stations', 'main': {'temp': -2.26, 'feels_like': -7.76, 'temp_min': -2.26, 'temp_max': -2.26, 'pressure': 1030, 'humidity': 64, 'sea_level': 1030, 'grnd_level': 900}, 'visibility': 10000, 'wind': {'speed': 5.02, 'deg': 34, 'gust': 6.7}, 'clouds': {'all': 8}, 'dt': 1676064818, 'sys': {'country': 'AF', 'sunrise': 1676083326, 'sunset': 1676122232}, 'timezone': 16200, 'id': 1140025, 'name': 'Herat Province', 'cod': 200}\n",
      "string indices must be integers\n",
      "City not found. Skipping...\n",
      "Processing Record 5 of Set 1 | san jose de guanipa\n",
      "{'coord': {'lon': -64.1651, 'lat': 8.8872}, 'weather': [{'id': 803, 'main': 'Clouds', 'description': 'broken clouds', 'icon': '04d'}], 'base': 'stations', 'main': {'temp': 27.37, 'feels_like': 28.23, 'temp_min': 27.37, 'temp_max': 27.37, 'pressure': 1010, 'humidity': 56, 'sea_level': 1010, 'grnd_level': 981}, 'visibility': 10000, 'wind': {'speed': 5.3, 'deg': 62, 'gust': 7.92}, 'clouds': {'all': 78}, 'dt': 1676064819, 'sys': {'country': 'VE', 'sunrise': 1676025401, 'sunset': 1676067914}, 'timezone': -14400, 'id': 3628142, 'name': 'San Jose de Guanipa', 'cod': 200}\n",
      "string indices must be integers\n",
      "City not found. Skipping...\n",
      "Processing Record 6 of Set 1 | qaanaaq\n",
      "{'coord': {'lon': -69.3632, 'lat': 77.484}, 'weather': [{'id': 800, 'main': 'Clear', 'description': 'clear sky', 'icon': '01n'}], 'base': 'stations', 'main': {'temp': -27.59, 'feels_like': -27.59, 'temp_min': -27.59, 'temp_max': -27.59, 'pressure': 1002, 'humidity': 55, 'sea_level': 1002, 'grnd_level': 997}, 'visibility': 10000, 'wind': {'speed': 0.72, 'deg': 268, 'gust': 0.84}, 'clouds': {'all': 5}, 'dt': 1676064819, 'sys': {'country': 'GL', 'sunrise': 0, 'sunset': 0}, 'timezone': -14400, 'id': 3831208, 'name': 'Qaanaaq', 'cod': 200}\n",
      "string indices must be integers\n",
      "City not found. Skipping...\n",
      "Processing Record 7 of Set 1 | rikitea\n",
      "{'coord': {'lon': -134.9692, 'lat': -23.1203}, 'weather': [{'id': 800, 'main': 'Clear', 'description': 'clear sky', 'icon': '01d'}], 'base': 'stations', 'main': {'temp': 26.26, 'feels_like': 26.26, 'temp_min': 26.26, 'temp_max': 26.26, 'pressure': 1017, 'humidity': 77, 'sea_level': 1017, 'grnd_level': 1014}, 'visibility': 10000, 'wind': {'speed': 8.28, 'deg': 102, 'gust': 9.2}, 'clouds': {'all': 7}, 'dt': 1676064819, 'sys': {'country': 'PF', 'sunrise': 1676040323, 'sunset': 1676086978}, 'timezone': -32400, 'id': 4030556, 'name': 'Rikitea', 'cod': 200}\n",
      "string indices must be integers\n",
      "City not found. Skipping...\n",
      "Processing Record 8 of Set 1 | te anau\n",
      "{'coord': {'lon': 167.7167, 'lat': -45.4167}, 'weather': [{'id': 801, 'main': 'Clouds', 'description': 'few clouds', 'icon': '02d'}], 'base': 'stations', 'main': {'temp': 14.63, 'feels_like': 13.79, 'temp_min': 14.63, 'temp_max': 14.63, 'pressure': 1019, 'humidity': 63, 'sea_level': 1019, 'grnd_level': 994}, 'visibility': 10000, 'wind': {'speed': 0.61, 'deg': 332, 'gust': 0.86}, 'clouds': {'all': 19}, 'dt': 1676064820, 'sys': {'country': 'NZ', 'sunrise': 1676051912, 'sunset': 1676102901}, 'timezone': 46800, 'id': 2181625, 'name': 'Te Anau', 'cod': 200}\n",
      "string indices must be integers\n",
      "City not found. Skipping...\n",
      "Processing Record 9 of Set 1 | castro\n",
      "{'coord': {'lon': -50.0119, 'lat': -24.7911}, 'weather': [{'id': 804, 'main': 'Clouds', 'description': 'overcast clouds', 'icon': '04d'}], 'base': 'stations', 'main': {'temp': 17.28, 'feels_like': 17.62, 'temp_min': 17.28, 'temp_max': 17.28, 'pressure': 1014, 'humidity': 98, 'sea_level': 1014, 'grnd_level': 902}, 'visibility': 7654, 'wind': {'speed': 2.07, 'deg': 100, 'gust': 7.25}, 'clouds': {'all': 95}, 'dt': 1676064820, 'sys': {'country': 'BR', 'sunrise': 1676019797, 'sunset': 1676066724}, 'timezone': -10800, 'id': 3466704, 'name': 'Castro', 'cod': 200}\n",
      "string indices must be integers\n",
      "City not found. Skipping...\n",
      "Processing Record 10 of Set 1 | luderitz\n",
      "{'coord': {'lon': 15.1594, 'lat': -26.6481}, 'weather': [{'id': 803, 'main': 'Clouds', 'description': 'broken clouds', 'icon': '04n'}], 'base': 'stations', 'main': {'temp': 17.52, 'feels_like': 17.83, 'temp_min': 17.52, 'temp_max': 17.52, 'pressure': 1012, 'humidity': 96, 'sea_level': 1012, 'grnd_level': 1008}, 'visibility': 10000, 'wind': {'speed': 2.11, 'deg': 176, 'gust': 2.49}, 'clouds': {'all': 54}, 'dt': 1676064821, 'sys': {'country': 'NA', 'sunrise': 1676004002, 'sunset': 1676051236}, 'timezone': 7200, 'id': 3355672, 'name': 'Lüderitz', 'cod': 200}\n",
      "string indices must be integers\n",
      "City not found. Skipping...\n",
      "-----------------------------\n",
      "Data Retrieval Complete      \n",
      "-----------------------------\n"
     ]
    }
   ],
   "source": [
    "# Set the API base URL\n",
    "url = \"http://api.openweathermap.org/data/2.5/weather?units=Metric&APPID=\" + weather_api_key\n",
    "\n",
    "# Define an empty list to fetch the weather data for each city\n",
    "city_data = []\n",
    "\n",
    "# Print to logger\n",
    "print(\"Beginning Data Retrieval     \")\n",
    "print(\"-----------------------------\")\n",
    "\n",
    "# Create counters\n",
    "record_count = 1\n",
    "set_count = 1\n",
    "\n",
    "# Loop through all the cities in our list to fetch weather data\n",
    "for i, city in enumerate(cities[:10]):\n",
    "    \n",
    "     # Group cities in sets of 50 for logging purposes\n",
    "    if (i % 50 == 0 and i >= 50):\n",
    "        set_count += 1\n",
    "        record_count = 0\n",
    "\n",
    "    # Create endpoint URL with each city\n",
    "    city_url = url +\"&q=\" + city\n",
    "    \n",
    "    # Log the url, record, and set numbers\n",
    "    print(\"Processing Record %s of Set %s | %s\" % (record_count, set_count, city))\n",
    "\n",
    "    # Add 1 to the record count\n",
    "    record_count += 1\n",
    "\n",
    "    # Run an API request for each of the cities\n",
    "    try:\n",
    "        # Parse the JSON and retrieve data\n",
    "        city_weather = requests.get(city_url).json()\n",
    "        print(city_weather)\n",
    "        \n",
    "     # Parse out latitude, longitude, max temp, humidity, cloudiness, wind speed, country, and date\n",
    "        city_lat = city_url[\"Processing_record\"][1][\"Lat\"]\n",
    "        city_lng = city_url[\"Processing_record\"][1][\"Long\"]\n",
    "        city_max_temp = city_url[\"Processing_record\"][1][\"Max Temp\"]\n",
    "        city_humidity = city_url[\"Processing_record\"][1][\"Humidity\"]\n",
    "        city_clouds = city_url[\"Processing_record\"][1][\"Cloudiness\"]\n",
    "        city_wind = city_url[\"Processing_record\"][1][\"Wind Speed\"]\n",
    "        city_country = city_url[\"Processing_record\"][1][\"Country\"]\n",
    "        city_date = city_url[\"Processing_record\"][1][\"Date\"]\n",
    "\n",
    "        # Append the City information into city_data list\n",
    "        city_data.append({\"City\": city, \n",
    "                          \"Lat\": city_lat, \n",
    "                          \"Lng\": city_lng, \n",
    "                          \"Max Temp\": city_max_temp,\n",
    "                          \"Humidity\": city_humidity,\n",
    "                          \"Cloudiness\": city_clouds,\n",
    "                          \"Wind Speed\": city_wind,\n",
    "                          \"Country\": city_country,\n",
    "                          \"Date\": city_date})\n",
    "\n",
    "    # If an error is experienced, skip the city\n",
    "    except Exception as e:\n",
    "        print(e)\n",
    "        print(\"City not found. Skipping...\")\n",
    "        pass\n",
    "              \n",
    "# Indicate that Data Loading is complete \n",
    "print(\"-----------------------------\")\n",
    "print(\"Data Retrieval Complete      \")\n",
    "print(\"-----------------------------\")\n"
   ]
  },
  {
   "cell_type": "code",
   "execution_count": 14,
   "metadata": {},
   "outputs": [
    {
     "data": {
      "text/plain": [
       "[]"
      ]
     },
     "execution_count": 14,
     "metadata": {},
     "output_type": "execute_result"
    }
   ],
   "source": [
    "# Convert the cities weather data into a Pandas DataFrame\n",
    "\n",
    "#city_data_df = pd.DataFrame[city_weather]\n",
    "\n",
    "city_data\n",
    "\n",
    "# Show Record Count\n",
    "#city_data_df.count()"
   ]
  },
  {
   "cell_type": "code",
   "execution_count": null,
   "metadata": {},
   "outputs": [],
   "source": [
    "#city_data_df = pd.DataFrame(city_weather, columns=[\"City\", \"Lat\", \"Lng\",\"Max Temp\", \"Humidity\", \"Cloudiness\", \"Wind Speed\", \"Country\", \"Date\"])\n",
    "\n",
    "print(city_data_df.head())"
   ]
  },
  {
   "cell_type": "code",
   "execution_count": null,
   "metadata": {},
   "outputs": [],
   "source": []
  },
  {
   "cell_type": "code",
   "execution_count": null,
   "metadata": {},
   "outputs": [],
   "source": [
    "# Display sample data\n",
    "city_data_df.head()"
   ]
  },
  {
   "cell_type": "code",
   "execution_count": null,
   "metadata": {},
   "outputs": [],
   "source": [
    "# Export the City_Data into a csv\n",
    "city_data_df.to_csv(\"output_data/cities.csv\", index_label=\"City_ID\")\n"
   ]
  },
  {
   "cell_type": "code",
   "execution_count": null,
   "metadata": {},
   "outputs": [],
   "source": [
    "# Export the City_Data into a csv\n",
    "city_data_df.to_csv(\"output_data/cities.csv\", index_label=\"City_ID\")"
   ]
  },
  {
   "cell_type": "code",
   "execution_count": null,
   "metadata": {},
   "outputs": [],
   "source": [
    "# Read saved data\n",
    "city_data_df = pd.read_csv(\"output_data/cities.csv\", index_col=\"City_ID\")\n",
    "\n",
    "# Display sample data\n",
    "city_data_df.head()"
   ]
  },
  {
   "cell_type": "markdown",
   "metadata": {},
   "source": [
    "### Create the Scatter Plots Requested\n",
    "\n",
    "#### Latitude Vs. Temperature"
   ]
  },
  {
   "cell_type": "code",
   "execution_count": null,
   "metadata": {
    "tags": []
   },
   "outputs": [],
   "source": [
    "# Build scatter plot for latitude vs. temperature\n",
    "# YOUR CODE HERE\n",
    "\n",
    "# Incorporate the other graph properties\n",
    "# YOUR CODE HERE\n",
    "\n",
    "# Save the figure\n",
    "plt.savefig(\"output_data/Fig1.png\")\n",
    "\n",
    "# Show plot\n",
    "plt.show()"
   ]
  },
  {
   "cell_type": "markdown",
   "metadata": {},
   "source": [
    "#### Latitude Vs. Humidity"
   ]
  },
  {
   "cell_type": "code",
   "execution_count": null,
   "metadata": {},
   "outputs": [],
   "source": [
    "# Build the scatter plots for latitude vs. humidity\n",
    "# YOUR CODE HERE\n",
    "\n",
    "# Incorporate the other graph properties\n",
    "# YOUR CODE HERE\n",
    "\n",
    "# Save the figure\n",
    "plt.savefig(\"output_data/Fig2.png\")\n",
    "\n",
    "# Show plot\n",
    "plt.show()"
   ]
  },
  {
   "cell_type": "markdown",
   "metadata": {},
   "source": [
    "#### Latitude Vs. Cloudiness"
   ]
  },
  {
   "cell_type": "code",
   "execution_count": null,
   "metadata": {},
   "outputs": [],
   "source": [
    "# Build the scatter plots for latitude vs. cloudiness\n",
    "# YOUR CODE HERE\n",
    "\n",
    "# Incorporate the other graph properties\n",
    "# YOUR CODE HERE\n",
    "\n",
    "# Save the figure\n",
    "plt.savefig(\"output_data/Fig3.png\")\n",
    "\n",
    "# Show plot\n",
    "plt.show()"
   ]
  },
  {
   "cell_type": "markdown",
   "metadata": {},
   "source": [
    "#### Latitude vs. Wind Speed Plot"
   ]
  },
  {
   "cell_type": "code",
   "execution_count": null,
   "metadata": {},
   "outputs": [],
   "source": [
    "# Build the scatter plots for latitude vs. wind speed\n",
    "# YOUR CODE HERE\n",
    "\n",
    "# Incorporate the other graph properties\n",
    "# YOUR CODE HERE\n",
    "\n",
    "# Save the figure\n",
    "plt.savefig(\"output_data/Fig4.png\")\n",
    "\n",
    "# Show plot\n",
    "plt.show()"
   ]
  },
  {
   "cell_type": "markdown",
   "metadata": {},
   "source": [
    "---\n",
    "\n",
    "## Requirement 2: Compute Linear Regression for Each Relationship\n"
   ]
  },
  {
   "cell_type": "code",
   "execution_count": null,
   "metadata": {},
   "outputs": [],
   "source": [
    "# Define a function to create Linear Regression plots\n",
    "# YOUR CODE HERE"
   ]
  },
  {
   "cell_type": "code",
   "execution_count": null,
   "metadata": {},
   "outputs": [],
   "source": [
    "# Create a DataFrame with the Northern Hemisphere data (Latitude >= 0)\n",
    "# YOUR CODE HERE\n",
    "\n",
    "# Display sample data\n",
    "northern_hemi_df.head()"
   ]
  },
  {
   "cell_type": "code",
   "execution_count": null,
   "metadata": {},
   "outputs": [],
   "source": [
    "# Create a DataFrame with the Southern Hemisphere data (Latitude < 0)\n",
    "# YOUR CODE HERE\n",
    "\n",
    "# Display sample data\n",
    "southern_hemi_df.head()"
   ]
  },
  {
   "cell_type": "markdown",
   "metadata": {},
   "source": [
    "###  Temperature vs. Latitude Linear Regression Plot"
   ]
  },
  {
   "cell_type": "code",
   "execution_count": null,
   "metadata": {},
   "outputs": [],
   "source": [
    "# Linear regression on Northern Hemisphere\n",
    "# YOUR CODE HERE"
   ]
  },
  {
   "cell_type": "code",
   "execution_count": null,
   "metadata": {},
   "outputs": [],
   "source": [
    "# Linear regression on Southern Hemisphere\n",
    "# YOUR CODE HERE"
   ]
  },
  {
   "cell_type": "markdown",
   "metadata": {},
   "source": [
    "**Discussion about the linear relationship:** YOUR RESPONSE HERE"
   ]
  },
  {
   "cell_type": "markdown",
   "metadata": {},
   "source": [
    "### Humidity vs. Latitude Linear Regression Plot"
   ]
  },
  {
   "cell_type": "code",
   "execution_count": null,
   "metadata": {},
   "outputs": [],
   "source": [
    "# Northern Hemisphere\n",
    "# YOUR CODE HERE"
   ]
  },
  {
   "cell_type": "code",
   "execution_count": null,
   "metadata": {},
   "outputs": [],
   "source": [
    "# Southern Hemisphere\n",
    "# YOUR CODE HERE"
   ]
  },
  {
   "cell_type": "markdown",
   "metadata": {},
   "source": [
    "**Discussion about the linear relationship:** YOUR RESPONSE HERE"
   ]
  },
  {
   "cell_type": "markdown",
   "metadata": {},
   "source": [
    "### Cloudiness vs. Latitude Linear Regression Plot"
   ]
  },
  {
   "cell_type": "code",
   "execution_count": null,
   "metadata": {},
   "outputs": [],
   "source": [
    "# Northern Hemisphere\n",
    "# YOUR CODE HERE"
   ]
  },
  {
   "cell_type": "code",
   "execution_count": null,
   "metadata": {},
   "outputs": [],
   "source": [
    "# Southern Hemisphere\n",
    "# YOUR CODE HERE"
   ]
  },
  {
   "cell_type": "markdown",
   "metadata": {},
   "source": [
    "**Discussion about the linear relationship:** YOUR RESPONSE HERE"
   ]
  },
  {
   "cell_type": "markdown",
   "metadata": {},
   "source": [
    "### Wind Speed vs. Latitude Linear Regression Plot"
   ]
  },
  {
   "cell_type": "code",
   "execution_count": null,
   "metadata": {},
   "outputs": [],
   "source": [
    "# Northern Hemisphere\n",
    "# YOUR CODE HERE"
   ]
  },
  {
   "cell_type": "code",
   "execution_count": null,
   "metadata": {},
   "outputs": [],
   "source": [
    "# Southern Hemisphere\n",
    "# YOUR CODE HERE"
   ]
  },
  {
   "cell_type": "markdown",
   "metadata": {},
   "source": [
    "**Discussion about the linear relationship:** YOUR RESPONSE HERE"
   ]
  },
  {
   "cell_type": "code",
   "execution_count": null,
   "metadata": {},
   "outputs": [],
   "source": []
  },
  {
   "cell_type": "code",
   "execution_count": null,
   "metadata": {},
   "outputs": [],
   "source": []
  }
 ],
 "metadata": {
  "anaconda-cloud": {},
  "kernel_info": {
   "name": "python3"
  },
  "kernelspec": {
   "display_name": "Python 3 (ipykernel)",
   "language": "python",
   "name": "python3"
  },
  "language_info": {
   "codemirror_mode": {
    "name": "ipython",
    "version": 3
   },
   "file_extension": ".py",
   "mimetype": "text/x-python",
   "name": "python",
   "nbconvert_exporter": "python",
   "pygments_lexer": "ipython3",
   "version": "3.7.7"
  },
  "latex_envs": {
   "LaTeX_envs_menu_present": true,
   "autoclose": false,
   "autocomplete": true,
   "bibliofile": "biblio.bib",
   "cite_by": "apalike",
   "current_citInitial": 1,
   "eqLabelWithNumbers": true,
   "eqNumInitial": 1,
   "hotkeys": {
    "equation": "Ctrl-E",
    "itemize": "Ctrl-I"
   },
   "labels_anchors": false,
   "latex_user_defs": false,
   "report_style_numbering": false,
   "user_envs_cfg": false
  },
  "nteract": {
   "version": "0.12.3"
  }
 },
 "nbformat": 4,
 "nbformat_minor": 4
}
