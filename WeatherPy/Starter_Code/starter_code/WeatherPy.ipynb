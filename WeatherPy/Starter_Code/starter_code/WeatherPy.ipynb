{
 "cells": [
  {
   "cell_type": "markdown",
   "metadata": {},
   "source": [
    "# WeatherPy\n",
    "\n",
    "---\n",
    "\n",
    "## Starter Code to Generate Random Geographic Coordinates and a List of Cities"
   ]
  },
  {
   "cell_type": "code",
   "execution_count": 1,
   "metadata": {
    "scrolled": true
   },
   "outputs": [],
   "source": [
    "# Dependencies and Setup\n",
    "import matplotlib.pyplot as plt\n",
    "import pandas as pd\n",
    "import numpy as np\n",
    "import requests\n",
    "import time\n",
    "from scipy.stats import linregress\n",
    "from pprint import pprint\n",
    "\n",
    "\n",
    "# Import the OpenWeatherMap API key\n",
    "from api_keys import weather_api_key\n",
    "\n",
    "# Import citipy to determine the cities based on latitude and longitude\n",
    "from citipy import citipy"
   ]
  },
  {
   "cell_type": "markdown",
   "metadata": {},
   "source": [
    "### Generate the Cities List by Using the `citipy` Library"
   ]
  },
  {
   "cell_type": "code",
   "execution_count": 2,
   "metadata": {},
   "outputs": [
    {
     "name": "stdout",
     "output_type": "stream",
     "text": [
      "Number of cities in the list: 462\n"
     ]
    }
   ],
   "source": [
    "# Empty list for holding the latitude and longitude combinations\n",
    "lat_lngs = []\n",
    "\n",
    "# Empty list for holding the cities names\n",
    "cities = []\n",
    "\n",
    "# Range of latitudes and longitudes\n",
    "lat_range = (-90, 90)\n",
    "lng_range = (-180, 180)\n",
    "\n",
    "# Create a set of random lat and lng combinations\n",
    "lats = np.random.uniform(lat_range[0], lat_range[1], size=1000)\n",
    "lngs = np.random.uniform(lng_range[0], lng_range[1], size=1000)\n",
    "lat_lngs = zip(lats, lngs)\n",
    "\n",
    "# Identify nearest city for each lat, lng combination\n",
    "for lat_lng in lat_lngs:\n",
    "    city = citipy.nearest_city(lat_lng[0], lat_lng[1]).city_name\n",
    "    \n",
    "    # If the city is unique, then add it to a our cities list\n",
    "    if city not in cities:\n",
    "        cities.append(city)\n",
    "\n",
    "# Print the city count to confirm sufficient count\n",
    "print(f\"Number of cities in the list: {len(cities)}\")"
   ]
  },
  {
   "cell_type": "markdown",
   "metadata": {},
   "source": [
    "---"
   ]
  },
  {
   "cell_type": "markdown",
   "metadata": {},
   "source": [
    "## Requirement 1: Create Plots to Showcase the Relationship Between Weather Variables and Latitude\n",
    "\n",
    "### Use the OpenWeatherMap API to retrieve weather data from the cities list generated in the started code"
   ]
  },
  {
   "cell_type": "code",
   "execution_count": 6,
   "metadata": {
    "scrolled": true
   },
   "outputs": [
    {
     "name": "stdout",
     "output_type": "stream",
     "text": [
      "Beginning Data Retrieval     \n",
      "-----------------------------\n",
      "Processing Record 1 of Set 1 | agbor\n",
      "Processing Record 2 of Set 1 | mataura\n",
      "Processing Record 3 of Set 1 | basoko\n",
      "Processing Record 4 of Set 1 | deputatskiy\n",
      "Processing Record 5 of Set 1 | vila franca do campo\n",
      "Processing Record 6 of Set 1 | kapaa\n",
      "Processing Record 7 of Set 1 | cape town\n",
      "Processing Record 8 of Set 1 | bathsheba\n",
      "Processing Record 9 of Set 1 | taolanaro\n",
      "City not found. Skipping...\n",
      "Processing Record 10 of Set 1 | hilo\n",
      "Processing Record 11 of Set 1 | new norfolk\n",
      "Processing Record 12 of Set 1 | tuy hoa\n",
      "Processing Record 13 of Set 1 | castro\n",
      "Processing Record 14 of Set 1 | rikitea\n",
      "Processing Record 15 of Set 1 | klungkung\n",
      "Processing Record 16 of Set 1 | ostrovnoy\n",
      "Processing Record 17 of Set 1 | chongwe\n",
      "Processing Record 18 of Set 1 | karaul\n",
      "City not found. Skipping...\n",
      "Processing Record 19 of Set 1 | ushuaia\n",
      "City not found. Skipping...\n",
      "Processing Record 20 of Set 1 | punta arenas\n",
      "Processing Record 21 of Set 1 | davila\n",
      "Processing Record 22 of Set 1 | salamanca\n",
      "Processing Record 23 of Set 1 | mareeba\n",
      "Processing Record 24 of Set 1 | sovetskiy\n",
      "Processing Record 25 of Set 1 | hofn\n",
      "Processing Record 26 of Set 1 | mar del plata\n",
      "Processing Record 27 of Set 1 | faanui\n",
      "Processing Record 28 of Set 1 | hermanus\n",
      "Processing Record 29 of Set 1 | lesnoy\n",
      "Processing Record 30 of Set 1 | bluff\n",
      "Processing Record 31 of Set 1 | illoqqortoormiut\n",
      "City not found. Skipping...\n",
      "Processing Record 32 of Set 1 | atuona\n",
      "Processing Record 33 of Set 1 | arraial do cabo\n",
      "Processing Record 34 of Set 1 | araci\n",
      "Processing Record 35 of Set 1 | pangnirtung\n",
      "Processing Record 36 of Set 1 | katsuura\n",
      "Processing Record 37 of Set 1 | provideniya\n",
      "Processing Record 38 of Set 1 | supuru de jos\n",
      "Processing Record 39 of Set 1 | belushya guba\n",
      "City not found. Skipping...\n",
      "Processing Record 40 of Set 1 | russell\n",
      "Processing Record 41 of Set 1 | north bend\n",
      "Processing Record 42 of Set 1 | iqaluit\n",
      "Processing Record 43 of Set 1 | kodiak\n",
      "Processing Record 44 of Set 1 | mount pleasant\n",
      "Processing Record 45 of Set 1 | hobart\n",
      "Processing Record 46 of Set 1 | port alfred\n",
      "Processing Record 47 of Set 1 | murmansk\n",
      "Processing Record 48 of Set 1 | bambous virieux\n",
      "Processing Record 49 of Set 1 | mamallapuram\n",
      "Processing Record 50 of Set 1 | sechura\n",
      "Processing Record 0 of Set 2 | tiarei\n",
      "Processing Record 1 of Set 2 | komsomolskiy\n",
      "Processing Record 2 of Set 2 | lompoc\n",
      "Processing Record 3 of Set 2 | hammerfest\n",
      "Processing Record 4 of Set 2 | port elizabeth\n",
      "Processing Record 5 of Set 2 | san patricio\n",
      "Processing Record 6 of Set 2 | mayumba\n",
      "Processing Record 7 of Set 2 | jamestown\n",
      "Processing Record 8 of Set 2 | ribeira grande\n",
      "Processing Record 9 of Set 2 | koumac\n",
      "Processing Record 10 of Set 2 | nongpoh\n",
      "Processing Record 11 of Set 2 | airai\n",
      "Processing Record 12 of Set 2 | busselton\n",
      "Processing Record 13 of Set 2 | south valley\n",
      "Processing Record 14 of Set 2 | sandi\n",
      "Processing Record 15 of Set 2 | half moon bay\n",
      "Processing Record 16 of Set 2 | araguacu\n",
      "Processing Record 17 of Set 2 | qaanaaq\n",
      "Processing Record 18 of Set 2 | mahebourg\n",
      "Processing Record 19 of Set 2 | klyuchi\n",
      "Processing Record 20 of Set 2 | tasiilaq\n",
      "Processing Record 21 of Set 2 | vaini\n",
      "Processing Record 22 of Set 2 | sitka\n",
      "Processing Record 23 of Set 2 | butaritari\n",
      "Processing Record 24 of Set 2 | vao\n",
      "Processing Record 25 of Set 2 | barentsburg\n",
      "City not found. Skipping...\n",
      "Processing Record 26 of Set 2 | puerto ayora\n",
      "Processing Record 27 of Set 2 | tsihombe\n",
      "City not found. Skipping...\n",
      "Processing Record 28 of Set 2 | biak\n",
      "Processing Record 29 of Set 2 | krasnoselkup\n",
      "Processing Record 30 of Set 2 | saskylakh\n",
      "Processing Record 31 of Set 2 | tura\n",
      "Processing Record 32 of Set 2 | karratha\n",
      "Processing Record 33 of Set 2 | grand river south east\n",
      "City not found. Skipping...\n",
      "Processing Record 34 of Set 2 | raudeberg\n",
      "Processing Record 35 of Set 2 | tuktoyaktuk\n",
      "Processing Record 36 of Set 2 | souillac\n",
      "Processing Record 37 of Set 2 | carnarvon\n",
      "Processing Record 38 of Set 2 | luderitz\n",
      "Processing Record 39 of Set 2 | laguna\n",
      "Processing Record 40 of Set 2 | east london\n",
      "Processing Record 41 of Set 2 | nemuro\n",
      "Processing Record 42 of Set 2 | camocim\n",
      "Processing Record 43 of Set 2 | saint-philippe\n",
      "Processing Record 44 of Set 2 | havoysund\n",
      "Processing Record 45 of Set 2 | okakarara\n",
      "Processing Record 46 of Set 2 | simao\n",
      "Processing Record 47 of Set 2 | nikolskoye\n",
      "Processing Record 48 of Set 2 | evensk\n",
      "Processing Record 49 of Set 2 | mogadishu\n",
      "Processing Record 0 of Set 3 | bengkulu\n",
      "Processing Record 1 of Set 3 | kununurra\n",
      "Processing Record 2 of Set 3 | vaitupu\n",
      "City not found. Skipping...\n",
      "Processing Record 3 of Set 3 | saquena\n",
      "Processing Record 4 of Set 3 | amderma\n",
      "City not found. Skipping...\n",
      "Processing Record 5 of Set 3 | burica\n",
      "City not found. Skipping...\n",
      "Processing Record 6 of Set 3 | barrow\n",
      "Processing Record 7 of Set 3 | albany\n",
      "Processing Record 8 of Set 3 | saint george\n",
      "Processing Record 9 of Set 3 | sisimiut\n",
      "Processing Record 10 of Set 3 | kruisfontein\n",
      "Processing Record 11 of Set 3 | namibe\n",
      "Processing Record 12 of Set 3 | upernavik\n",
      "Processing Record 13 of Set 3 | prudnik\n",
      "Processing Record 14 of Set 3 | jambi\n",
      "Processing Record 15 of Set 3 | qandala\n",
      "Processing Record 16 of Set 3 | sangar\n",
      "Processing Record 17 of Set 3 | cuervos\n",
      "Processing Record 18 of Set 3 | kommunar\n",
      "Processing Record 19 of Set 3 | bredasdorp\n",
      "Processing Record 20 of Set 3 | baruun-urt\n",
      "Processing Record 21 of Set 3 | san cristobal\n",
      "Processing Record 22 of Set 3 | goderich\n",
      "Processing Record 23 of Set 3 | muros\n",
      "Processing Record 24 of Set 3 | samusu\n",
      "City not found. Skipping...\n",
      "Processing Record 25 of Set 3 | kindia\n",
      "Processing Record 26 of Set 3 | ilulissat\n",
      "Processing Record 27 of Set 3 | berlevag\n",
      "Processing Record 28 of Set 3 | alekseyevskaya\n",
      "Processing Record 29 of Set 3 | shelburne\n",
      "Processing Record 30 of Set 3 | qasigiannguit\n",
      "Processing Record 31 of Set 3 | chicama\n",
      "Processing Record 32 of Set 3 | vreed en hoop\n",
      "City not found. Skipping...\n",
      "Processing Record 33 of Set 3 | sibu\n",
      "Processing Record 34 of Set 3 | saint-ambroise\n",
      "Processing Record 35 of Set 3 | mirabad\n",
      "Processing Record 36 of Set 3 | piet retief\n",
      "Processing Record 37 of Set 3 | tumannyy\n",
      "City not found. Skipping...\n",
      "Processing Record 38 of Set 3 | pacifica\n",
      "Processing Record 39 of Set 3 | dzhusaly\n",
      "City not found. Skipping...\n",
      "Processing Record 40 of Set 3 | aksarka\n",
      "Processing Record 41 of Set 3 | beringovskiy\n",
      "Processing Record 42 of Set 3 | zhigansk\n",
      "Processing Record 43 of Set 3 | palabuhanratu\n",
      "City not found. Skipping...\n",
      "Processing Record 44 of Set 3 | kieta\n",
      "Processing Record 45 of Set 3 | taklisah\n",
      "Processing Record 46 of Set 3 | saldanha\n",
      "Processing Record 47 of Set 3 | tutoia\n",
      "Processing Record 48 of Set 3 | inongo\n",
      "Processing Record 49 of Set 3 | banjarmasin\n",
      "Processing Record 0 of Set 4 | panalingaan\n",
      "Processing Record 1 of Set 4 | kempele\n",
      "Processing Record 2 of Set 4 | jiroft\n",
      "City not found. Skipping...\n",
      "Processing Record 3 of Set 4 | anadyr\n",
      "Processing Record 4 of Set 4 | padang\n",
      "Processing Record 5 of Set 4 | fevik\n",
      "Processing Record 6 of Set 4 | puerto madero\n",
      "Processing Record 7 of Set 4 | finschhafen\n",
      "Processing Record 8 of Set 4 | kahului\n",
      "Processing Record 9 of Set 4 | moranbah\n",
      "Processing Record 10 of Set 4 | calama\n",
      "Processing Record 11 of Set 4 | flinders\n",
      "Processing Record 12 of Set 4 | padilla\n",
      "Processing Record 13 of Set 4 | camacari\n",
      "Processing Record 14 of Set 4 | brigantine\n",
      "Processing Record 15 of Set 4 | tiznit\n",
      "Processing Record 16 of Set 4 | lincoln\n",
      "Processing Record 17 of Set 4 | kirakira\n",
      "Processing Record 18 of Set 4 | carutapera\n",
      "Processing Record 19 of Set 4 | rabo de peixe\n",
      "Processing Record 20 of Set 4 | harper\n",
      "Processing Record 21 of Set 4 | skegness\n",
      "Processing Record 22 of Set 4 | narsaq\n",
      "Processing Record 23 of Set 4 | wamba\n",
      "Processing Record 24 of Set 4 | jining\n",
      "Processing Record 25 of Set 4 | warqla\n",
      "City not found. Skipping...\n",
      "Processing Record 26 of Set 4 | umzimvubu\n",
      "City not found. Skipping...\n",
      "Processing Record 27 of Set 4 | at-bashi\n",
      "Processing Record 28 of Set 4 | dickinson\n",
      "Processing Record 29 of Set 4 | portland\n",
      "Processing Record 30 of Set 4 | voh\n",
      "Processing Record 31 of Set 4 | oyama\n",
      "Processing Record 32 of Set 4 | georgetown\n",
      "Processing Record 33 of Set 4 | leningradskiy\n",
      "Processing Record 34 of Set 4 | lumeje\n"
     ]
    },
    {
     "name": "stdout",
     "output_type": "stream",
     "text": [
      "Processing Record 35 of Set 4 | kapoeta\n",
      "Processing Record 36 of Set 4 | khormuj\n",
      "City not found. Skipping...\n",
      "Processing Record 37 of Set 4 | lima\n",
      "Processing Record 38 of Set 4 | biltine\n",
      "Processing Record 39 of Set 4 | grajau\n",
      "Processing Record 40 of Set 4 | ixtapa\n",
      "Processing Record 41 of Set 4 | quatre cocos\n",
      "Processing Record 42 of Set 4 | hualmay\n",
      "Processing Record 43 of Set 4 | palmer\n",
      "Processing Record 44 of Set 4 | camopi\n",
      "Processing Record 45 of Set 4 | dikson\n",
      "Processing Record 46 of Set 4 | olden\n",
      "Processing Record 47 of Set 4 | torrington\n",
      "Processing Record 48 of Set 4 | kamenka\n",
      "Processing Record 49 of Set 4 | yinchuan\n",
      "Processing Record 0 of Set 5 | ewa beach\n",
      "Processing Record 1 of Set 5 | severo-kurilsk\n",
      "Processing Record 2 of Set 5 | pisco\n",
      "Processing Record 3 of Set 5 | vostok\n",
      "Processing Record 4 of Set 5 | kabare\n",
      "Processing Record 5 of Set 5 | tabiauea\n",
      "City not found. Skipping...\n",
      "Processing Record 6 of Set 5 | lorengau\n",
      "Processing Record 7 of Set 5 | umm kaddadah\n",
      "Processing Record 8 of Set 5 | lasa\n",
      "Processing Record 9 of Set 5 | cabo san lucas\n",
      "Processing Record 10 of Set 5 | redwater\n",
      "Processing Record 11 of Set 5 | alyangula\n",
      "Processing Record 12 of Set 5 | yonezawa\n",
      "Processing Record 13 of Set 5 | praxedis guerrero\n",
      "Processing Record 14 of Set 5 | ancud\n",
      "Processing Record 15 of Set 5 | ugoofaaru\n",
      "Processing Record 16 of Set 5 | rawson\n",
      "Processing Record 17 of Set 5 | tiksi\n",
      "Processing Record 18 of Set 5 | vanavara\n",
      "Processing Record 19 of Set 5 | thompson\n",
      "Processing Record 20 of Set 5 | pareora\n",
      "Processing Record 21 of Set 5 | akyab\n",
      "Processing Record 22 of Set 5 | kaitangata\n",
      "Processing Record 23 of Set 5 | dobroye\n",
      "Processing Record 24 of Set 5 | mahajanga\n",
      "Processing Record 25 of Set 5 | knysna\n",
      "Processing Record 26 of Set 5 | boende\n",
      "Processing Record 27 of Set 5 | najran\n",
      "Processing Record 28 of Set 5 | payo\n",
      "Processing Record 29 of Set 5 | komsomolets\n",
      "Processing Record 30 of Set 5 | kidal\n",
      "Processing Record 31 of Set 5 | cascais\n",
      "Processing Record 32 of Set 5 | rafraf\n",
      "Processing Record 33 of Set 5 | lerwick\n",
      "Processing Record 34 of Set 5 | olinda\n",
      "Processing Record 35 of Set 5 | a\n",
      "City not found. Skipping...\n",
      "Processing Record 36 of Set 5 | celestun\n",
      "Processing Record 37 of Set 5 | seidu\n",
      "Processing Record 38 of Set 5 | khonsa\n",
      "Processing Record 39 of Set 5 | tuatapere\n",
      "Processing Record 40 of Set 5 | katobu\n",
      "Processing Record 41 of Set 5 | kamenskoye\n",
      "City not found. Skipping...\n",
      "Processing Record 42 of Set 5 | zarubino\n",
      "Processing Record 43 of Set 5 | avera\n",
      "Processing Record 44 of Set 5 | jujuy\n",
      "City not found. Skipping...\n",
      "Processing Record 45 of Set 5 | charters towers\n",
      "Processing Record 46 of Set 5 | baghdad\n",
      "Processing Record 47 of Set 5 | atig\n",
      "Processing Record 48 of Set 5 | kavieng\n",
      "Processing Record 49 of Set 5 | sao filipe\n",
      "Processing Record 0 of Set 6 | orotukan\n",
      "Processing Record 1 of Set 6 | alofi\n",
      "Processing Record 2 of Set 6 | ucluelet\n",
      "Processing Record 3 of Set 6 | fukue\n",
      "Processing Record 4 of Set 6 | nanortalik\n",
      "Processing Record 5 of Set 6 | saint-pierre\n",
      "Processing Record 6 of Set 6 | ulladulla\n",
      "Processing Record 7 of Set 6 | wenling\n",
      "Processing Record 8 of Set 6 | sorland\n",
      "Processing Record 9 of Set 6 | nizhneyansk\n",
      "City not found. Skipping...\n",
      "Processing Record 10 of Set 6 | beloha\n",
      "Processing Record 11 of Set 6 | bokoro\n",
      "Processing Record 12 of Set 6 | caravelas\n",
      "Processing Record 13 of Set 6 | shingu\n",
      "Processing Record 14 of Set 6 | sentyabrskiy\n",
      "City not found. Skipping...\n",
      "Processing Record 15 of Set 6 | ponta do sol\n",
      "Processing Record 16 of Set 6 | tweed\n",
      "Processing Record 17 of Set 6 | mys shmidta\n",
      "City not found. Skipping...\n",
      "Processing Record 18 of Set 6 | rodino\n",
      "Processing Record 19 of Set 6 | taoudenni\n",
      "Processing Record 20 of Set 6 | okhotsk\n",
      "Processing Record 21 of Set 6 | gat\n",
      "Processing Record 22 of Set 6 | mizdah\n",
      "Processing Record 23 of Set 6 | attawapiskat\n",
      "City not found. Skipping...\n",
      "Processing Record 24 of Set 6 | saint stephen\n",
      "Processing Record 25 of Set 6 | katherine\n",
      "Processing Record 26 of Set 6 | juba\n",
      "Processing Record 27 of Set 6 | baykit\n",
      "Processing Record 28 of Set 6 | pervomayskoye\n",
      "Processing Record 29 of Set 6 | chokurdakh\n",
      "Processing Record 30 of Set 6 | hay river\n",
      "Processing Record 31 of Set 6 | ilinskoye-khovanskoye\n",
      "Processing Record 32 of Set 6 | seoul\n",
      "Processing Record 33 of Set 6 | saleaula\n",
      "City not found. Skipping...\n",
      "Processing Record 34 of Set 6 | port augusta\n",
      "Processing Record 35 of Set 6 | falealupo\n",
      "City not found. Skipping...\n",
      "Processing Record 36 of Set 6 | longyearbyen\n",
      "Processing Record 37 of Set 6 | mayo\n",
      "Processing Record 38 of Set 6 | burevestnik\n",
      "Processing Record 39 of Set 6 | lavrentiya\n",
      "Processing Record 40 of Set 6 | yumen\n",
      "Processing Record 41 of Set 6 | esperance\n",
      "Processing Record 42 of Set 6 | alihe\n",
      "Processing Record 43 of Set 6 | brae\n",
      "Processing Record 44 of Set 6 | vardo\n",
      "Processing Record 45 of Set 6 | victoria\n",
      "Processing Record 46 of Set 6 | louisbourg\n",
      "City not found. Skipping...\n",
      "Processing Record 47 of Set 6 | trairi\n",
      "Processing Record 48 of Set 6 | luganville\n",
      "Processing Record 49 of Set 6 | coquimbo\n",
      "Processing Record 0 of Set 7 | cherskiy\n",
      "Processing Record 1 of Set 7 | saryshagan\n",
      "City not found. Skipping...\n",
      "Processing Record 2 of Set 7 | cholan\n",
      "City not found. Skipping...\n",
      "Processing Record 3 of Set 7 | ulaangom\n",
      "Processing Record 4 of Set 7 | yuli\n",
      "Processing Record 5 of Set 7 | cockburn town\n",
      "Processing Record 6 of Set 7 | pampas\n",
      "Processing Record 7 of Set 7 | kaspiyskiy\n",
      "Processing Record 8 of Set 7 | loyga\n",
      "Processing Record 9 of Set 7 | sao miguel do araguaia\n",
      "Processing Record 10 of Set 7 | nalhati\n",
      "Processing Record 11 of Set 7 | methoni\n",
      "Processing Record 12 of Set 7 | avarua\n",
      "Processing Record 13 of Set 7 | nyurba\n",
      "Processing Record 14 of Set 7 | lebanon\n",
      "Processing Record 15 of Set 7 | haines junction\n",
      "Processing Record 16 of Set 7 | naze\n",
      "Processing Record 17 of Set 7 | banyo\n",
      "Processing Record 18 of Set 7 | terra santa\n",
      "Processing Record 19 of Set 7 | tual\n",
      "Processing Record 20 of Set 7 | todos santos\n",
      "Processing Record 21 of Set 7 | sterling\n",
      "Processing Record 22 of Set 7 | maghama\n",
      "City not found. Skipping...\n",
      "Processing Record 23 of Set 7 | khatanga\n",
      "Processing Record 24 of Set 7 | abu samrah\n",
      "Processing Record 25 of Set 7 | adrar\n",
      "Processing Record 26 of Set 7 | turukhansk\n",
      "Processing Record 27 of Set 7 | bethel\n",
      "Processing Record 28 of Set 7 | porto novo\n",
      "Processing Record 29 of Set 7 | meulaboh\n",
      "Processing Record 30 of Set 7 | andevoranto\n",
      "City not found. Skipping...\n",
      "Processing Record 31 of Set 7 | cidreira\n",
      "Processing Record 32 of Set 7 | bababe\n",
      "City not found. Skipping...\n",
      "Processing Record 33 of Set 7 | bereda\n",
      "Processing Record 34 of Set 7 | hithadhoo\n",
      "Processing Record 35 of Set 7 | ngukurr\n",
      "City not found. Skipping...\n",
      "Processing Record 36 of Set 7 | ambilobe\n",
      "Processing Record 37 of Set 7 | steinkjer\n",
      "Processing Record 38 of Set 7 | te anau\n",
      "Processing Record 39 of Set 7 | norman wells\n",
      "Processing Record 40 of Set 7 | bilma\n",
      "Processing Record 41 of Set 7 | labuhan\n",
      "Processing Record 42 of Set 7 | tiassale\n",
      "Processing Record 43 of Set 7 | danielskuil\n",
      "Processing Record 44 of Set 7 | cazaje\n",
      "City not found. Skipping...\n",
      "Processing Record 45 of Set 7 | makung\n",
      "City not found. Skipping...\n",
      "Processing Record 46 of Set 7 | canandaigua\n",
      "Processing Record 47 of Set 7 | aklavik\n",
      "Processing Record 48 of Set 7 | sayansk\n",
      "Processing Record 49 of Set 7 | canon city\n",
      "Processing Record 0 of Set 8 | kurtamysh\n",
      "Processing Record 1 of Set 8 | bubaque\n",
      "Processing Record 2 of Set 8 | carberry\n",
      "Processing Record 3 of Set 8 | lebu\n",
      "Processing Record 4 of Set 8 | idrinskoye\n",
      "Processing Record 5 of Set 8 | novooleksiyivka\n",
      "Processing Record 6 of Set 8 | crab hill\n",
      "City not found. Skipping...\n",
      "Processing Record 7 of Set 8 | juneau\n",
      "Processing Record 8 of Set 8 | poum\n",
      "Processing Record 9 of Set 8 | constitucion\n",
      "Processing Record 10 of Set 8 | kurilsk\n",
      "Processing Record 11 of Set 8 | bien unido\n",
      "Processing Record 12 of Set 8 | nampula\n",
      "Processing Record 13 of Set 8 | nhulunbuy\n",
      "Processing Record 14 of Set 8 | nara\n",
      "Processing Record 15 of Set 8 | banda aceh\n",
      "Processing Record 16 of Set 8 | bastia\n",
      "Processing Record 17 of Set 8 | jardim\n",
      "Processing Record 18 of Set 8 | svetlogorsk\n",
      "Processing Record 19 of Set 8 | yellowknife\n",
      "Processing Record 20 of Set 8 | borujerd\n",
      "Processing Record 21 of Set 8 | goma\n"
     ]
    },
    {
     "name": "stdout",
     "output_type": "stream",
     "text": [
      "Processing Record 22 of Set 8 | cervo\n",
      "Processing Record 23 of Set 8 | aktau\n",
      "Processing Record 24 of Set 8 | banjar\n",
      "Processing Record 25 of Set 8 | gizo\n",
      "Processing Record 26 of Set 8 | magdug\n",
      "Processing Record 27 of Set 8 | zyryanka\n",
      "Processing Record 28 of Set 8 | blankenburg\n",
      "Processing Record 29 of Set 8 | beira\n",
      "Processing Record 30 of Set 8 | shenjiamen\n",
      "Processing Record 31 of Set 8 | barra\n",
      "Processing Record 32 of Set 8 | vanimo\n",
      "Processing Record 33 of Set 8 | saint-augustin\n",
      "Processing Record 34 of Set 8 | almaznyy\n",
      "Processing Record 35 of Set 8 | rawdon\n",
      "Processing Record 36 of Set 8 | wailuku\n",
      "Processing Record 37 of Set 8 | klaksvik\n",
      "Processing Record 38 of Set 8 | talnakh\n",
      "Processing Record 39 of Set 8 | anastacio\n",
      "Processing Record 40 of Set 8 | faya\n",
      "Processing Record 41 of Set 8 | cangzhou\n",
      "Processing Record 42 of Set 8 | amurzet\n",
      "Processing Record 43 of Set 8 | kodino\n",
      "Processing Record 44 of Set 8 | maniitsoq\n",
      "Processing Record 45 of Set 8 | san carlos del zulia\n",
      "Processing Record 46 of Set 8 | makakilo city\n",
      "Processing Record 47 of Set 8 | diu\n",
      "Processing Record 48 of Set 8 | los llanos de aridane\n",
      "Processing Record 49 of Set 8 | ossora\n",
      "Processing Record 0 of Set 9 | guider\n",
      "Processing Record 1 of Set 9 | uelzen\n",
      "Processing Record 2 of Set 9 | pevek\n",
      "Processing Record 3 of Set 9 | minbu\n",
      "Processing Record 4 of Set 9 | pemangkat\n",
      "Processing Record 5 of Set 9 | dingle\n",
      "Processing Record 6 of Set 9 | arman\n",
      "Processing Record 7 of Set 9 | aswan\n",
      "Processing Record 8 of Set 9 | marcona\n",
      "City not found. Skipping...\n",
      "Processing Record 9 of Set 9 | daru\n",
      "Processing Record 10 of Set 9 | sivaki\n",
      "Processing Record 11 of Set 9 | hamilton\n",
      "Processing Record 12 of Set 9 | wulanhaote\n",
      "City not found. Skipping...\n",
      "Processing Record 13 of Set 9 | south sioux city\n",
      "Processing Record 14 of Set 9 | vestmannaeyjar\n",
      "Processing Record 15 of Set 9 | high level\n",
      "Processing Record 16 of Set 9 | tawkar\n",
      "City not found. Skipping...\n",
      "Processing Record 17 of Set 9 | palana\n",
      "Processing Record 18 of Set 9 | bonavista\n",
      "Processing Record 19 of Set 9 | nicolas bravo\n",
      "Processing Record 20 of Set 9 | sumbe\n",
      "Processing Record 21 of Set 9 | bolonchen\n",
      "City not found. Skipping...\n",
      "Processing Record 22 of Set 9 | guasdualito\n",
      "Processing Record 23 of Set 9 | udachnyy\n",
      "Processing Record 24 of Set 9 | touros\n",
      "Processing Record 25 of Set 9 | ketchikan\n",
      "Processing Record 26 of Set 9 | clyde river\n",
      "Processing Record 27 of Set 9 | broome\n",
      "Processing Record 28 of Set 9 | port macquarie\n",
      "Processing Record 29 of Set 9 | shieli\n",
      "Processing Record 30 of Set 9 | bichura\n",
      "Processing Record 31 of Set 9 | antofagasta\n",
      "Processing Record 32 of Set 9 | saint-francois\n",
      "Processing Record 33 of Set 9 | whitley bay\n",
      "Processing Record 34 of Set 9 | praia\n",
      "Processing Record 35 of Set 9 | porbandar\n",
      "Processing Record 36 of Set 9 | dryden\n",
      "Processing Record 37 of Set 9 | semey\n",
      "Processing Record 38 of Set 9 | usinsk\n",
      "Processing Record 39 of Set 9 | poltava\n",
      "Processing Record 40 of Set 9 | alice\n",
      "Processing Record 41 of Set 9 | karakol\n",
      "Processing Record 42 of Set 9 | kenai\n",
      "Processing Record 43 of Set 9 | santa marta\n",
      "Processing Record 44 of Set 9 | diego de almagro\n",
      "Processing Record 45 of Set 9 | vranjska banja\n",
      "Processing Record 46 of Set 9 | temir\n",
      "Processing Record 47 of Set 9 | eyl\n",
      "Processing Record 48 of Set 9 | breves\n",
      "Processing Record 49 of Set 9 | chuy\n",
      "Processing Record 0 of Set 10 | necochea\n",
      "Processing Record 1 of Set 10 | novovasylivka\n",
      "Processing Record 2 of Set 10 | basco\n",
      "Processing Record 3 of Set 10 | huilong\n",
      "Processing Record 4 of Set 10 | masunga\n",
      "Processing Record 5 of Set 10 | guerrero negro\n",
      "Processing Record 6 of Set 10 | bima\n",
      "Processing Record 7 of Set 10 | mackay\n",
      "Processing Record 8 of Set 10 | porto santo\n",
      "Processing Record 9 of Set 10 | grenada\n",
      "Processing Record 10 of Set 10 | marawi\n",
      "Processing Record 11 of Set 10 | sistranda\n",
      "-----------------------------\n",
      "Data Retrieval Complete      \n",
      "-----------------------------\n"
     ]
    }
   ],
   "source": [
    "# Set the API base URL\n",
    "url = \"http://api.openweathermap.org/data/2.5/weather?units=Imperial\"\n",
    "query_url = url + \"&appid=\" + weather_api_key\n",
    "\n",
    "# Define an empty list to fetch the weather data for each city\n",
    "city_data = []\n",
    "\n",
    "# Print to logger\n",
    "print(\"Beginning Data Retrieval     \")\n",
    "print(\"-----------------------------\")\n",
    "\n",
    "# Create counters\n",
    "record_count = 1\n",
    "set_count = 1\n",
    "\n",
    "# Loop through all the cities in our list to fetch weather data\n",
    "for i, city in enumerate(cities):\n",
    "    \n",
    "     # Group cities in sets of 50 for logging purposes\n",
    "    if (i % 50 == 0 and i >= 50):\n",
    "        set_count += 1\n",
    "        record_count = 0\n",
    "\n",
    "    # Create endpoint URL with each city\n",
    "    city_url = query_url +\"&q=\" + city\n",
    "    \n",
    "    # Log the url, record, and set numbers\n",
    "    print(\"Processing Record %s of Set %s | %s\" % (record_count, set_count, city))\n",
    "\n",
    "    # Add 1 to the record count\n",
    "    record_count += 1\n",
    "\n",
    "    # Run an API request for each of the cities\n",
    "    try:\n",
    "        # Parse the JSON and retrieve data\n",
    "        city_weather = requests.get(city_url).json()\n",
    "        \n",
    "     # Parse out latitude, longitude, max temp, humidity, cloudiness, wind speed, country, and date\n",
    "        city_lat = city_weather[\"coord\"][\"lat\"]\n",
    "        city_lng = city_weather[\"coord\"][\"lon\"]\n",
    "        city_max_temp = city_weather[\"main\"][\"temp_max\"]\n",
    "        city_humidity = city_weather[\"main\"][\"humidity\"]\n",
    "        city_clouds = city_weather[\"clouds\"][\"all\"]\n",
    "        city_wind = city_weather[\"wind\"][\"speed\"]\n",
    "        city_country = city_weather[\"sys\"][\"country\"]\n",
    "        city_date = city_weather[\"dt\"]\n",
    "\n",
    "        # Append the City information into city_data list\n",
    "        city_data.append({\"City\": city,\n",
    "                          \"Country\": city_country,\n",
    "                          \"Lat\": city_lat, \n",
    "                          \"Lng\": city_lng, \n",
    "                          \"Max Temp\": city_max_temp,\n",
    "                          \"Humidity\": city_humidity,\n",
    "                          \"Cloudiness\": city_clouds,\n",
    "                          \"Wind Speed\": city_wind,\n",
    "                          \"Date\": city_date})\n",
    "\n",
    "    # If an error is experienced, skip the city\n",
    "    except:\n",
    "        print(\"City not found. Skipping...\")\n",
    "        pass\n",
    "              \n",
    "# Indicate that Data Loading is complete \n",
    "print(\"-----------------------------\")\n",
    "print(\"Data Retrieval Complete      \")\n",
    "print(\"-----------------------------\")\n"
   ]
  },
  {
   "cell_type": "code",
   "execution_count": 9,
   "metadata": {
    "scrolled": true
   },
   "outputs": [],
   "source": [
    "# Convert the cities weather data into a Pandas DataFrame\n",
    "city_data_df = pd.DataFrame(city_data)\n"
   ]
  },
  {
   "cell_type": "code",
   "execution_count": 10,
   "metadata": {},
   "outputs": [
    {
     "data": {
      "text/plain": [
       "City          418\n",
       "Country       418\n",
       "Lat           418\n",
       "Lng           418\n",
       "Max Temp      418\n",
       "Humidity      418\n",
       "Cloudiness    418\n",
       "Wind Speed    418\n",
       "Date          418\n",
       "dtype: int64"
      ]
     },
     "execution_count": 10,
     "metadata": {},
     "output_type": "execute_result"
    }
   ],
   "source": [
    "# Show Record Count\n",
    "city_data_df.count()\n"
   ]
  },
  {
   "cell_type": "code",
   "execution_count": 11,
   "metadata": {},
   "outputs": [
    {
     "data": {
      "text/html": [
       "<div>\n",
       "<style scoped>\n",
       "    .dataframe tbody tr th:only-of-type {\n",
       "        vertical-align: middle;\n",
       "    }\n",
       "\n",
       "    .dataframe tbody tr th {\n",
       "        vertical-align: top;\n",
       "    }\n",
       "\n",
       "    .dataframe thead th {\n",
       "        text-align: right;\n",
       "    }\n",
       "</style>\n",
       "<table border=\"1\" class=\"dataframe\">\n",
       "  <thead>\n",
       "    <tr style=\"text-align: right;\">\n",
       "      <th></th>\n",
       "      <th>City</th>\n",
       "      <th>Country</th>\n",
       "      <th>Lat</th>\n",
       "      <th>Lng</th>\n",
       "      <th>Max Temp</th>\n",
       "      <th>Humidity</th>\n",
       "      <th>Cloudiness</th>\n",
       "      <th>Wind Speed</th>\n",
       "      <th>Date</th>\n",
       "    </tr>\n",
       "  </thead>\n",
       "  <tbody>\n",
       "    <tr>\n",
       "      <th>0</th>\n",
       "      <td>agbor</td>\n",
       "      <td>NG</td>\n",
       "      <td>6.2518</td>\n",
       "      <td>6.1934</td>\n",
       "      <td>77.68</td>\n",
       "      <td>90</td>\n",
       "      <td>42</td>\n",
       "      <td>5.17</td>\n",
       "      <td>1681335369</td>\n",
       "    </tr>\n",
       "    <tr>\n",
       "      <th>1</th>\n",
       "      <td>mataura</td>\n",
       "      <td>NZ</td>\n",
       "      <td>-46.1927</td>\n",
       "      <td>168.8643</td>\n",
       "      <td>52.48</td>\n",
       "      <td>92</td>\n",
       "      <td>100</td>\n",
       "      <td>6.98</td>\n",
       "      <td>1681335370</td>\n",
       "    </tr>\n",
       "    <tr>\n",
       "      <th>2</th>\n",
       "      <td>basoko</td>\n",
       "      <td>CD</td>\n",
       "      <td>1.2391</td>\n",
       "      <td>23.6160</td>\n",
       "      <td>72.86</td>\n",
       "      <td>79</td>\n",
       "      <td>100</td>\n",
       "      <td>2.98</td>\n",
       "      <td>1681335370</td>\n",
       "    </tr>\n",
       "    <tr>\n",
       "      <th>3</th>\n",
       "      <td>deputatskiy</td>\n",
       "      <td>RU</td>\n",
       "      <td>69.3000</td>\n",
       "      <td>139.9000</td>\n",
       "      <td>-6.11</td>\n",
       "      <td>92</td>\n",
       "      <td>11</td>\n",
       "      <td>2.66</td>\n",
       "      <td>1681335371</td>\n",
       "    </tr>\n",
       "    <tr>\n",
       "      <th>4</th>\n",
       "      <td>vila franca do campo</td>\n",
       "      <td>PT</td>\n",
       "      <td>37.7167</td>\n",
       "      <td>-25.4333</td>\n",
       "      <td>59.41</td>\n",
       "      <td>82</td>\n",
       "      <td>99</td>\n",
       "      <td>3.87</td>\n",
       "      <td>1681335371</td>\n",
       "    </tr>\n",
       "  </tbody>\n",
       "</table>\n",
       "</div>"
      ],
      "text/plain": [
       "                   City Country      Lat       Lng  Max Temp  Humidity  \\\n",
       "0                 agbor      NG   6.2518    6.1934     77.68        90   \n",
       "1               mataura      NZ -46.1927  168.8643     52.48        92   \n",
       "2                basoko      CD   1.2391   23.6160     72.86        79   \n",
       "3           deputatskiy      RU  69.3000  139.9000     -6.11        92   \n",
       "4  vila franca do campo      PT  37.7167  -25.4333     59.41        82   \n",
       "\n",
       "   Cloudiness  Wind Speed        Date  \n",
       "0          42        5.17  1681335369  \n",
       "1         100        6.98  1681335370  \n",
       "2         100        2.98  1681335370  \n",
       "3          11        2.66  1681335371  \n",
       "4          99        3.87  1681335371  "
      ]
     },
     "execution_count": 11,
     "metadata": {},
     "output_type": "execute_result"
    }
   ],
   "source": [
    "# Display sample data\n",
    "city_data_df.head()"
   ]
  },
  {
   "cell_type": "code",
   "execution_count": 12,
   "metadata": {},
   "outputs": [],
   "source": [
    "# Export the City_Data into a csv\n",
    "city_data_df.to_csv(\"output_data/cities.csv\", index_label=\"City_ID\")\n"
   ]
  },
  {
   "cell_type": "code",
   "execution_count": 13,
   "metadata": {},
   "outputs": [
    {
     "data": {
      "text/html": [
       "<div>\n",
       "<style scoped>\n",
       "    .dataframe tbody tr th:only-of-type {\n",
       "        vertical-align: middle;\n",
       "    }\n",
       "\n",
       "    .dataframe tbody tr th {\n",
       "        vertical-align: top;\n",
       "    }\n",
       "\n",
       "    .dataframe thead th {\n",
       "        text-align: right;\n",
       "    }\n",
       "</style>\n",
       "<table border=\"1\" class=\"dataframe\">\n",
       "  <thead>\n",
       "    <tr style=\"text-align: right;\">\n",
       "      <th></th>\n",
       "      <th>City_ID</th>\n",
       "      <th>City</th>\n",
       "      <th>Country</th>\n",
       "      <th>Lat</th>\n",
       "      <th>Lng</th>\n",
       "      <th>Max Temp</th>\n",
       "      <th>Humidity</th>\n",
       "      <th>Cloudiness</th>\n",
       "      <th>Wind Speed</th>\n",
       "      <th>Date</th>\n",
       "    </tr>\n",
       "  </thead>\n",
       "  <tbody>\n",
       "    <tr>\n",
       "      <th>0</th>\n",
       "      <td>0</td>\n",
       "      <td>agbor</td>\n",
       "      <td>NG</td>\n",
       "      <td>6.2518</td>\n",
       "      <td>6.1934</td>\n",
       "      <td>77.68</td>\n",
       "      <td>90</td>\n",
       "      <td>42</td>\n",
       "      <td>5.17</td>\n",
       "      <td>1681335369</td>\n",
       "    </tr>\n",
       "    <tr>\n",
       "      <th>1</th>\n",
       "      <td>1</td>\n",
       "      <td>mataura</td>\n",
       "      <td>NZ</td>\n",
       "      <td>-46.1927</td>\n",
       "      <td>168.8643</td>\n",
       "      <td>52.48</td>\n",
       "      <td>92</td>\n",
       "      <td>100</td>\n",
       "      <td>6.98</td>\n",
       "      <td>1681335370</td>\n",
       "    </tr>\n",
       "    <tr>\n",
       "      <th>2</th>\n",
       "      <td>2</td>\n",
       "      <td>basoko</td>\n",
       "      <td>CD</td>\n",
       "      <td>1.2391</td>\n",
       "      <td>23.6160</td>\n",
       "      <td>72.86</td>\n",
       "      <td>79</td>\n",
       "      <td>100</td>\n",
       "      <td>2.98</td>\n",
       "      <td>1681335370</td>\n",
       "    </tr>\n",
       "    <tr>\n",
       "      <th>3</th>\n",
       "      <td>3</td>\n",
       "      <td>deputatskiy</td>\n",
       "      <td>RU</td>\n",
       "      <td>69.3000</td>\n",
       "      <td>139.9000</td>\n",
       "      <td>-6.11</td>\n",
       "      <td>92</td>\n",
       "      <td>11</td>\n",
       "      <td>2.66</td>\n",
       "      <td>1681335371</td>\n",
       "    </tr>\n",
       "    <tr>\n",
       "      <th>4</th>\n",
       "      <td>4</td>\n",
       "      <td>vila franca do campo</td>\n",
       "      <td>PT</td>\n",
       "      <td>37.7167</td>\n",
       "      <td>-25.4333</td>\n",
       "      <td>59.41</td>\n",
       "      <td>82</td>\n",
       "      <td>99</td>\n",
       "      <td>3.87</td>\n",
       "      <td>1681335371</td>\n",
       "    </tr>\n",
       "  </tbody>\n",
       "</table>\n",
       "</div>"
      ],
      "text/plain": [
       "   City_ID                  City Country      Lat       Lng  Max Temp  \\\n",
       "0        0                 agbor      NG   6.2518    6.1934     77.68   \n",
       "1        1               mataura      NZ -46.1927  168.8643     52.48   \n",
       "2        2                basoko      CD   1.2391   23.6160     72.86   \n",
       "3        3           deputatskiy      RU  69.3000  139.9000     -6.11   \n",
       "4        4  vila franca do campo      PT  37.7167  -25.4333     59.41   \n",
       "\n",
       "   Humidity  Cloudiness  Wind Speed        Date  \n",
       "0        90          42        5.17  1681335369  \n",
       "1        92         100        6.98  1681335370  \n",
       "2        79         100        2.98  1681335370  \n",
       "3        92          11        2.66  1681335371  \n",
       "4        82          99        3.87  1681335371  "
      ]
     },
     "execution_count": 13,
     "metadata": {},
     "output_type": "execute_result"
    }
   ],
   "source": [
    "# Read saved data\n",
    "city_data_df = pd.read_csv(\"output_data/cities.csv\")\n",
    "\n",
    "# Display sample data\n",
    "city_data_df.head()"
   ]
  },
  {
   "cell_type": "markdown",
   "metadata": {},
   "source": [
    "### Create the Scatter Plots Requested\n",
    "\n",
    "#### Latitude Vs. Temperature"
   ]
  },
  {
   "cell_type": "code",
   "execution_count": 24,
   "metadata": {
    "tags": []
   },
   "outputs": [
    {
     "data": {
      "image/png": "[encoded data removed]",
      "text/plain": [
       "<Figure size 432x288 with 1 Axes>"
      ]
     },
     "metadata": {
      "needs_background": "light"
     },
     "output_type": "display_data"
    }
   ],
   "source": [
    "# Build scatter plot for latitude vs. temperature\n",
    "plt.scatter(city_data_df['Lat'], city_data_df['Max Temp'], marker = \"o\", s=8)\n",
    "\n",
    "# Incorporate the other graph properties\n",
    "plt.title(\"Max Temperature of City by Latitude\")\n",
    "plt.xlabel(\"Latitude\")\n",
    "plt.ylabel(\"Max Temp\")\n",
    "plt.grid(True)\n",
    "\n",
    "# Save the figure\n",
    "plt.savefig(\"output_data/Fig1.png\")\n",
    "\n",
    "# Show plot\n",
    "plt.show()"
   ]
  },
  {
   "cell_type": "markdown",
   "metadata": {},
   "source": [
    "#### Latitude Vs. Humidity"
   ]
  },
  {
   "cell_type": "code",
   "execution_count": 25,
   "metadata": {},
   "outputs": [
    {
     "data": {
      "image/png": "[encoded data removed]",
      "text/plain": [
       "<Figure size 432x288 with 1 Axes>"
      ]
     },
     "metadata": {
      "needs_background": "light"
     },
     "output_type": "display_data"
    }
   ],
   "source": [
    "# Build the scatter plots for latitude vs. humidity\n",
    "plt.scatter(city_data_df['Lat'], city_data_df['Humidity'], marker = \"o\", s=10)\n",
    "\n",
    "# Incorporate the other graph properties\n",
    "plt.title(\"Humidity of City by Latitude\")\n",
    "plt.xlabel(\"Latitude\")\n",
    "plt.ylabel(\"Humidity\")\n",
    "plt.grid(True)\n",
    "\n",
    "# Save the figure\n",
    "plt.savefig(\"output_data/Fig2.png\")\n",
    "\n",
    "# Show plot\n",
    "plt.show()"
   ]
  },
  {
   "cell_type": "markdown",
   "metadata": {},
   "source": [
    "#### Latitude Vs. Cloudiness"
   ]
  },
  {
   "cell_type": "code",
   "execution_count": 26,
   "metadata": {},
   "outputs": [
    {
     "data": {
      "image/png": "[encoded data removed]",
      "text/plain": [
       "<Figure size 432x288 with 1 Axes>"
      ]
     },
     "metadata": {
      "needs_background": "light"
     },
     "output_type": "display_data"
    }
   ],
   "source": [
    "# Build the scatter plots for latitude vs. cloudiness\n",
    "plt.scatter(city_data_df['Lat'], city_data_df['Cloudiness'], marker = \"o\", s=8)\n",
    "\n",
    "# Incorporate the other graph properties\n",
    "plt.title(\"Cloudiness of City by Latitude\")\n",
    "plt.xlabel(\"Latitude\")\n",
    "plt.ylabel(\"Cloudiness\")\n",
    "plt.grid(True)\n",
    "\n",
    "# Save the figure\n",
    "plt.savefig(\"output_data/Fig3.png\")\n",
    "\n",
    "# Show plot\n",
    "plt.show()"
   ]
  },
  {
   "cell_type": "markdown",
   "metadata": {},
   "source": [
    "#### Latitude vs. Wind Speed Plot"
   ]
  },
  {
   "cell_type": "code",
   "execution_count": 27,
   "metadata": {},
   "outputs": [
    {
     "data": {
      "image/png": "[encoded data removed]",
      "text/plain": [
       "<Figure size 432x288 with 1 Axes>"
      ]
     },
     "metadata": {
      "needs_background": "light"
     },
     "output_type": "display_data"
    }
   ],
   "source": [
    "# Build the scatter plots for latitude vs. wind speed\n",
    "plt.scatter(city_data_df['Lat'], city_data_df['Wind Speed'], marker = \"o\", s=8)\n",
    "\n",
    "# Incorporate the other graph properties\n",
    "plt.title(\"Wind Speed of City by Latitude\")\n",
    "plt.xlabel(\"Latitude\")\n",
    "plt.ylabel(\"Wind Speed\")\n",
    "plt.grid(True)\n",
    "\n",
    "# Save the figure\n",
    "plt.savefig(\"output_data/Fig4.png\")\n",
    "\n",
    "# Show plot\n",
    "plt.show()"
   ]
  },
  {
   "cell_type": "markdown",
   "metadata": {},
   "source": [
    "---\n",
    "\n",
    "## Requirement 2: Compute Linear Regression for Each Relationship\n"
   ]
  },
  {
   "cell_type": "markdown",
   "metadata": {},
   "source": [
    "You should create the following plots:\n",
    "\n",
    "Northern Hemisphere: Temperature vs. Latitude\n",
    "\n",
    "Southern Hemisphere: Temperature vs. Latitude\n",
    "\n",
    "Northern Hemisphere: Humidity vs. Latitude\n",
    "\n",
    "Southern Hemisphere: Humidity vs. Latitude\n",
    "\n",
    "Northern Hemisphere: Cloudiness vs. Latitude\n",
    "\n",
    "Southern Hemisphere: Cloudiness vs. Latitude\n",
    "\n",
    "Northern Hemisphere: Wind Speed vs. Latitude\n",
    "\n",
    "Southern Hemisphere: Wind Speed vs. Latitude"
   ]
  },
  {
   "cell_type": "code",
   "execution_count": 75,
   "metadata": {},
   "outputs": [],
   "source": [
    "# Define a function to create Linear Regression plots\n",
    "def linear_regression(x_values, y_values, title, y_label, text_coordinates):\n",
    "                      \n",
    "    slope, intercept, r_value, p_value, std_err = linregress(x_values, y_values)\n",
    "                      \n",
    "    regress = x_values * slope + intercept\n",
    "                      \n",
    "    line = \"y = \" + str(round(slope,2)) + \"x + \" + str(round(intercept,2))\n",
    "                      \n",
    "    plt.scatter(x_values, y_values)\n",
    "    plt.plot(x_values, regress, \"r\")\n",
    "    plt.annotate(line, text_coordinates, fontsize=12, color=\"red\")\n",
    "    \n",
    "    plt.title(title)\n",
    "    plt.xlabel('Latitude')\n",
    "    plt.ylabel(y_label)\n",
    "    print(f\"The r-value is: {r_value}\")\n",
    "    plt.show()"
   ]
  },
  {
   "cell_type": "code",
   "execution_count": 76,
   "metadata": {},
   "outputs": [
    {
     "data": {
      "text/html": [
       "<div>\n",
       "<style scoped>\n",
       "    .dataframe tbody tr th:only-of-type {\n",
       "        vertical-align: middle;\n",
       "    }\n",
       "\n",
       "    .dataframe tbody tr th {\n",
       "        vertical-align: top;\n",
       "    }\n",
       "\n",
       "    .dataframe thead th {\n",
       "        text-align: right;\n",
       "    }\n",
       "</style>\n",
       "<table border=\"1\" class=\"dataframe\">\n",
       "  <thead>\n",
       "    <tr style=\"text-align: right;\">\n",
       "      <th></th>\n",
       "      <th>City_ID</th>\n",
       "      <th>City</th>\n",
       "      <th>Country</th>\n",
       "      <th>Lat</th>\n",
       "      <th>Lng</th>\n",
       "      <th>Max Temp</th>\n",
       "      <th>Humidity</th>\n",
       "      <th>Cloudiness</th>\n",
       "      <th>Wind Speed</th>\n",
       "      <th>Date</th>\n",
       "    </tr>\n",
       "  </thead>\n",
       "  <tbody>\n",
       "    <tr>\n",
       "      <th>0</th>\n",
       "      <td>0</td>\n",
       "      <td>agbor</td>\n",
       "      <td>NG</td>\n",
       "      <td>6.2518</td>\n",
       "      <td>6.1934</td>\n",
       "      <td>77.68</td>\n",
       "      <td>90</td>\n",
       "      <td>42</td>\n",
       "      <td>5.17</td>\n",
       "      <td>1681335369</td>\n",
       "    </tr>\n",
       "    <tr>\n",
       "      <th>2</th>\n",
       "      <td>2</td>\n",
       "      <td>basoko</td>\n",
       "      <td>CD</td>\n",
       "      <td>1.2391</td>\n",
       "      <td>23.6160</td>\n",
       "      <td>72.86</td>\n",
       "      <td>79</td>\n",
       "      <td>100</td>\n",
       "      <td>2.98</td>\n",
       "      <td>1681335370</td>\n",
       "    </tr>\n",
       "    <tr>\n",
       "      <th>3</th>\n",
       "      <td>3</td>\n",
       "      <td>deputatskiy</td>\n",
       "      <td>RU</td>\n",
       "      <td>69.3000</td>\n",
       "      <td>139.9000</td>\n",
       "      <td>-6.11</td>\n",
       "      <td>92</td>\n",
       "      <td>11</td>\n",
       "      <td>2.66</td>\n",
       "      <td>1681335371</td>\n",
       "    </tr>\n",
       "    <tr>\n",
       "      <th>4</th>\n",
       "      <td>4</td>\n",
       "      <td>vila franca do campo</td>\n",
       "      <td>PT</td>\n",
       "      <td>37.7167</td>\n",
       "      <td>-25.4333</td>\n",
       "      <td>59.41</td>\n",
       "      <td>82</td>\n",
       "      <td>99</td>\n",
       "      <td>3.87</td>\n",
       "      <td>1681335371</td>\n",
       "    </tr>\n",
       "    <tr>\n",
       "      <th>5</th>\n",
       "      <td>5</td>\n",
       "      <td>kapaa</td>\n",
       "      <td>US</td>\n",
       "      <td>22.0752</td>\n",
       "      <td>-159.3190</td>\n",
       "      <td>79.12</td>\n",
       "      <td>78</td>\n",
       "      <td>75</td>\n",
       "      <td>14.97</td>\n",
       "      <td>1681335371</td>\n",
       "    </tr>\n",
       "  </tbody>\n",
       "</table>\n",
       "</div>"
      ],
      "text/plain": [
       "   City_ID                  City Country      Lat       Lng  Max Temp  \\\n",
       "0        0                 agbor      NG   6.2518    6.1934     77.68   \n",
       "2        2                basoko      CD   1.2391   23.6160     72.86   \n",
       "3        3           deputatskiy      RU  69.3000  139.9000     -6.11   \n",
       "4        4  vila franca do campo      PT  37.7167  -25.4333     59.41   \n",
       "5        5                 kapaa      US  22.0752 -159.3190     79.12   \n",
       "\n",
       "   Humidity  Cloudiness  Wind Speed        Date  \n",
       "0        90          42        5.17  1681335369  \n",
       "2        79         100        2.98  1681335370  \n",
       "3        92          11        2.66  1681335371  \n",
       "4        82          99        3.87  1681335371  \n",
       "5        78          75       14.97  1681335371  "
      ]
     },
     "execution_count": 76,
     "metadata": {},
     "output_type": "execute_result"
    }
   ],
   "source": [
    "# Create a DataFrame with the Northern Hemisphere data (Latitude >= 0)\n",
    "northern_df = city_data_df.loc[(city_data_df[\"Lat\"] >= 0)]\n",
    "\n",
    "# Display sample data\n",
    "northern_df.head()"
   ]
  },
  {
   "cell_type": "code",
   "execution_count": 77,
   "metadata": {},
   "outputs": [
    {
     "data": {
      "text/html": [
       "<div>\n",
       "<style scoped>\n",
       "    .dataframe tbody tr th:only-of-type {\n",
       "        vertical-align: middle;\n",
       "    }\n",
       "\n",
       "    .dataframe tbody tr th {\n",
       "        vertical-align: top;\n",
       "    }\n",
       "\n",
       "    .dataframe thead th {\n",
       "        text-align: right;\n",
       "    }\n",
       "</style>\n",
       "<table border=\"1\" class=\"dataframe\">\n",
       "  <thead>\n",
       "    <tr style=\"text-align: right;\">\n",
       "      <th></th>\n",
       "      <th>City_ID</th>\n",
       "      <th>City</th>\n",
       "      <th>Country</th>\n",
       "      <th>Lat</th>\n",
       "      <th>Lng</th>\n",
       "      <th>Max Temp</th>\n",
       "      <th>Humidity</th>\n",
       "      <th>Cloudiness</th>\n",
       "      <th>Wind Speed</th>\n",
       "      <th>Date</th>\n",
       "    </tr>\n",
       "  </thead>\n",
       "  <tbody>\n",
       "    <tr>\n",
       "      <th>1</th>\n",
       "      <td>1</td>\n",
       "      <td>mataura</td>\n",
       "      <td>NZ</td>\n",
       "      <td>-46.1927</td>\n",
       "      <td>168.8643</td>\n",
       "      <td>52.48</td>\n",
       "      <td>92</td>\n",
       "      <td>100</td>\n",
       "      <td>6.98</td>\n",
       "      <td>1681335370</td>\n",
       "    </tr>\n",
       "    <tr>\n",
       "      <th>6</th>\n",
       "      <td>6</td>\n",
       "      <td>cape town</td>\n",
       "      <td>ZA</td>\n",
       "      <td>-33.9258</td>\n",
       "      <td>18.4232</td>\n",
       "      <td>61.09</td>\n",
       "      <td>74</td>\n",
       "      <td>0</td>\n",
       "      <td>2.30</td>\n",
       "      <td>1681335300</td>\n",
       "    </tr>\n",
       "    <tr>\n",
       "      <th>9</th>\n",
       "      <td>9</td>\n",
       "      <td>new norfolk</td>\n",
       "      <td>AU</td>\n",
       "      <td>-42.7826</td>\n",
       "      <td>147.0587</td>\n",
       "      <td>54.91</td>\n",
       "      <td>79</td>\n",
       "      <td>61</td>\n",
       "      <td>1.12</td>\n",
       "      <td>1681335373</td>\n",
       "    </tr>\n",
       "    <tr>\n",
       "      <th>11</th>\n",
       "      <td>11</td>\n",
       "      <td>castro</td>\n",
       "      <td>BR</td>\n",
       "      <td>-24.7911</td>\n",
       "      <td>-50.0119</td>\n",
       "      <td>66.52</td>\n",
       "      <td>74</td>\n",
       "      <td>96</td>\n",
       "      <td>1.90</td>\n",
       "      <td>1681335374</td>\n",
       "    </tr>\n",
       "    <tr>\n",
       "      <th>12</th>\n",
       "      <td>12</td>\n",
       "      <td>rikitea</td>\n",
       "      <td>PF</td>\n",
       "      <td>-23.1203</td>\n",
       "      <td>-134.9692</td>\n",
       "      <td>77.83</td>\n",
       "      <td>69</td>\n",
       "      <td>39</td>\n",
       "      <td>11.61</td>\n",
       "      <td>1681335374</td>\n",
       "    </tr>\n",
       "  </tbody>\n",
       "</table>\n",
       "</div>"
      ],
      "text/plain": [
       "    City_ID         City Country      Lat       Lng  Max Temp  Humidity  \\\n",
       "1         1      mataura      NZ -46.1927  168.8643     52.48        92   \n",
       "6         6    cape town      ZA -33.9258   18.4232     61.09        74   \n",
       "9         9  new norfolk      AU -42.7826  147.0587     54.91        79   \n",
       "11       11       castro      BR -24.7911  -50.0119     66.52        74   \n",
       "12       12      rikitea      PF -23.1203 -134.9692     77.83        69   \n",
       "\n",
       "    Cloudiness  Wind Speed        Date  \n",
       "1          100        6.98  1681335370  \n",
       "6            0        2.30  1681335300  \n",
       "9           61        1.12  1681335373  \n",
       "11          96        1.90  1681335374  \n",
       "12          39       11.61  1681335374  "
      ]
     },
     "execution_count": 77,
     "metadata": {},
     "output_type": "execute_result"
    }
   ],
   "source": [
    "# Create a DataFrame with the Southern Hemisphere data (Latitude < 0)\n",
    "southern_df = city_data_df.loc[(city_data_df[\"Lat\"] < 0)]\n",
    "\n",
    "# Display sample data\n",
    "southern_df.head()"
   ]
  },
  {
   "cell_type": "markdown",
   "metadata": {},
   "source": [
    "###  Temperature vs. Latitude Linear Regression Plot"
   ]
  },
  {
   "cell_type": "code",
   "execution_count": 78,
   "metadata": {},
   "outputs": [
    {
     "name": "stdout",
     "output_type": "stream",
     "text": [
      "The r-value is: -0.8414052500818396\n"
     ]
    },
    {
     "data": {
      "image/png": "[encoded data removed]",
      "text/plain": [
       "<Figure size 432x288 with 1 Axes>"
      ]
     },
     "metadata": {
      "needs_background": "light"
     },
     "output_type": "display_data"
    }
   ],
   "source": [
    "# Linear regression on Northern Hemisphere\n",
    "x_values = northern_df[\"Lat\"]\n",
    "y_values = northern_df[\"Max Temp\"]\n",
    "\n",
    "linear_regression( x_values, y_values, \n",
    "            'Linear Regression of Cities in the Northern Hemisphere', 'Max Temp', (10, 20))"
   ]
  },
  {
   "cell_type": "code",
   "execution_count": 80,
   "metadata": {},
   "outputs": [
    {
     "name": "stdout",
     "output_type": "stream",
     "text": [
      "The r-value is: 0.7583131116276105\n"
     ]
    },
    {
     "data": {
      "image/png": "[encoded data removed]",
      "text/plain": [
       "<Figure size 432x288 with 1 Axes>"
      ]
     },
     "metadata": {
      "needs_background": "light"
     },
     "output_type": "display_data"
    }
   ],
   "source": [
    "# Linear regression on Southern Hemisphere\n",
    "x_values = southern_df[\"Lat\"]\n",
    "y_values = southern_df[\"Max Temp\"]\n",
    "\n",
    "linear_regression( x_values, y_values, \n",
    "            'Linear Regression of Cities in the Southern Hemisphere', 'Max Temp', (-50, 80))"
   ]
  },
  {
   "cell_type": "markdown",
   "metadata": {},
   "source": [
    "**Discussion about the linear relationship:** YOUR RESPONSE HERE"
   ]
  },
  {
   "cell_type": "markdown",
   "metadata": {},
   "source": [
    "### Humidity vs. Latitude Linear Regression Plot"
   ]
  },
  {
   "cell_type": "code",
   "execution_count": 82,
   "metadata": {},
   "outputs": [
    {
     "name": "stdout",
     "output_type": "stream",
     "text": [
      "The r-value is: 0.3045855847750265\n"
     ]
    },
    {
     "data": {
      "image/png": "[encoded data removed]",
      "text/plain": [
       "<Figure size 432x288 with 1 Axes>"
      ]
     },
     "metadata": {
      "needs_background": "light"
     },
     "output_type": "display_data"
    }
   ],
   "source": [
    "# Northern Hemisphere\n",
    "x_values = northern_df[\"Lat\"]\n",
    "y_values = northern_df[\"Humidity\"]\n",
    "\n",
    "linear_regression( x_values, y_values, \n",
    "            'Linear Regression of Cities in the Northern Hemisphere', 'Humidity', (50, 20))"
   ]
  },
  {
   "cell_type": "code",
   "execution_count": 83,
   "metadata": {},
   "outputs": [
    {
     "name": "stdout",
     "output_type": "stream",
     "text": [
      "The r-value is: 0.7583131116276105\n"
     ]
    },
    {
     "data": {
      "image/png": "[encoded data removed]",
      "text/plain": [
       "<Figure size 432x288 with 1 Axes>"
      ]
     },
     "metadata": {
      "needs_background": "light"
     },
     "output_type": "display_data"
    }
   ],
   "source": [
    "# Southern Hemisphere\n",
    "x_values = southern_df[\"Lat\"]\n",
    "y_values = southern_df[\"Max Temp\"]\n",
    "\n",
    "linear_regression( x_values, y_values, \n",
    "            'Linear Regression of Cities in the Southern Hemisphere', 'Humidity', (-50, 80))"
   ]
  },
  {
   "cell_type": "markdown",
   "metadata": {},
   "source": [
    "**Discussion about the linear relationship:** YOUR RESPONSE HERE"
   ]
  },
  {
   "cell_type": "markdown",
   "metadata": {},
   "source": [
    "### Cloudiness vs. Latitude Linear Regression Plot"
   ]
  },
  {
   "cell_type": "code",
   "execution_count": 96,
   "metadata": {},
   "outputs": [
    {
     "name": "stdout",
     "output_type": "stream",
     "text": [
      "The r-value is: 0.13945107577412225\n"
     ]
    },
    {
     "data": {
      "image/png": "[encoded data removed]",
      "text/plain": [
       "<Figure size 432x288 with 1 Axes>"
      ]
     },
     "metadata": {
      "needs_background": "light"
     },
     "output_type": "display_data"
    }
   ],
   "source": [
    "# Northern Hemisphere\n",
    "x_values = northern_df[\"Lat\"]\n",
    "y_values = northern_df[\"Cloudiness\"]\n",
    "\n",
    "linear_regression( x_values, y_values, \n",
    "            'Linear Regression of Cities in the Northern Hemisphere', 'Cloudiness', (22, 62))"
   ]
  },
  {
   "cell_type": "code",
   "execution_count": 95,
   "metadata": {},
   "outputs": [
    {
     "name": "stdout",
     "output_type": "stream",
     "text": [
      "The r-value is: 0.12990231879189745\n"
     ]
    },
    {
     "data": {
      "image/png": "[encoded data removed]",
      "text/plain": [
       "<Figure size 432x288 with 1 Axes>"
      ]
     },
     "metadata": {
      "needs_background": "light"
     },
     "output_type": "display_data"
    }
   ],
   "source": [
    "# Southern Hemisphere\n",
    "x_values = southern_df[\"Lat\"]\n",
    "y_values = southern_df[\"Cloudiness\"]\n",
    "\n",
    "linear_regression( x_values, y_values, \n",
    "            'Linear Regression of Cities in the Southern Hemisphere', 'Cloudiness', (-53, 42))"
   ]
  },
  {
   "cell_type": "markdown",
   "metadata": {},
   "source": [
    "**Discussion about the linear relationship:** YOUR RESPONSE HERE"
   ]
  },
  {
   "cell_type": "markdown",
   "metadata": {},
   "source": [
    "### Wind Speed vs. Latitude Linear Regression Plot"
   ]
  },
  {
   "cell_type": "code",
   "execution_count": 102,
   "metadata": {},
   "outputs": [
    {
     "name": "stdout",
     "output_type": "stream",
     "text": [
      "The r-value is: 0.07665720396426845\n"
     ]
    },
    {
     "data": {
      "image/png": "[encoded data removed]",
      "text/plain": [
       "<Figure size 432x288 with 1 Axes>"
      ]
     },
     "metadata": {
      "needs_background": "light"
     },
     "output_type": "display_data"
    }
   ],
   "source": [
    "# Northern Hemisphere\n",
    "x_values = northern_df[\"Lat\"]\n",
    "y_values = northern_df[\"Wind Speed\"]\n",
    "\n",
    "linear_regression( x_values, y_values, \n",
    "            'Linear Regression of Cities in the Northern Hemisphere', 'Wind Speed', (0, 19))\n"
   ]
  },
  {
   "cell_type": "code",
   "execution_count": 106,
   "metadata": {},
   "outputs": [
    {
     "name": "stdout",
     "output_type": "stream",
     "text": [
      "The r-value is: -0.29514453765032816\n"
     ]
    },
    {
     "data": {
      "image/png": "[encoded data removed]",
      "text/plain": [
       "<Figure size 432x288 with 1 Axes>"
      ]
     },
     "metadata": {
      "needs_background": "light"
     },
     "output_type": "display_data"
    }
   ],
   "source": [
    "# Southern Hemisphere\n",
    "x_values = southern_df[\"Lat\"]\n",
    "y_values = southern_df[\"Wind Speed\"]\n",
    "\n",
    "linear_regression( x_values, y_values, \n",
    "            'Linear Regression of Cities in the Southern Hemisphere', 'Wind Speed', (-50, 14))"
   ]
  },
  {
   "cell_type": "markdown",
   "metadata": {},
   "source": [
    "**Discussion about the linear relationship:** YOUR RESPONSE HERE"
   ]
  },
  {
   "cell_type": "code",
   "execution_count": null,
   "metadata": {},
   "outputs": [],
   "source": []
  },
  {
   "cell_type": "code",
   "execution_count": null,
   "metadata": {},
   "outputs": [],
   "source": []
  }
 ],
 "metadata": {
  "anaconda-cloud": {},
  "kernel_info": {
   "name": "python3"
  },
  "kernelspec": {
   "display_name": "Python 3 (ipykernel)",
   "language": "python",
   "name": "python3"
  },
  "language_info": {
   "codemirror_mode": {
    "name": "ipython",
    "version": 3
   },
   "file_extension": ".py",
   "mimetype": "text/x-python",
   "name": "python",
   "nbconvert_exporter": "python",
   "pygments_lexer": "ipython3",
   "version": "3.7.7"
  },
  "latex_envs": {
   "LaTeX_envs_menu_present": true,
   "autoclose": false,
   "autocomplete": true,
   "bibliofile": "biblio.bib",
   "cite_by": "apalike",
   "current_citInitial": 1,
   "eqLabelWithNumbers": true,
   "eqNumInitial": 1,
   "hotkeys": {
    "equation": "Ctrl-E",
    "itemize": "Ctrl-I"
   },
   "labels_anchors": false,
   "latex_user_defs": false,
   "report_style_numbering": false,
   "user_envs_cfg": false
  },
  "nteract": {
   "version": "0.12.3"
  }
 },
 "nbformat": 4,
 "nbformat_minor": 4
}
